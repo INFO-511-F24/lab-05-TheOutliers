{
 "cells": [
  {
   "cell_type": "markdown",
   "metadata": {},
   "source": [
    "# Lab 5 - Probability and Simpson’s Paradox\n",
    "### Team name\n",
    "### Authors: \n",
    "  - \"Team member 1\"\n",
    "  - \"Team member 2\"\n",
    "  - \"Team member 3\"\n",
    "  - \"Team member 4\"\n",
    "  - \"Team member 5\"\n",
    "### Date: ADD DATE HERE"
   ]
  },
  {
   "cell_type": "markdown",
   "metadata": {},
   "source": [
    "::: callout-important\n",
    "This is a *Team* Lab, meaning you can and should work with your project team on it.\n",
    ":::"
   ]
  },
  {
   "cell_type": "markdown",
   "metadata": {},
   "source": [
    "## Packages"
   ]
  },
  {
   "cell_type": "code",
   "execution_count": 1,
   "metadata": {},
   "outputs": [],
   "source": [
    "import pandas as pd\n",
    "import seaborn as sns\n",
    "import matplotlib.pyplot as plt"
   ]
  },
  {
   "cell_type": "markdown",
   "metadata": {},
   "source": [
    "# Introduction\n",
    "\n",
    "In this lab you'll review and get practice with a variety of concepts, methods, and tools you've encountered thus far, with a focus on misrepresentation and ethics.\n",
    "\n",
    "## Learning objectives\n",
    "\n",
    "By the end of the lab, you will...\n",
    "\n",
    "-   Calculate single event, conditional, and \"and\" probabilities.\n",
    "-   Interpret probabilities in the context of the problem.\n",
    "-   Display a fundamental understanding of Simpson's Paradox.\n",
    "-   Practice teamwork and collaboration on GitHub.\n",
    "\n",
    "## Guidelines\n",
    "\n",
    "As we've discussed in lecture, your plots should include an informative title, axes should be labeled, and careful consideration should be given to aesthetic choices.\n",
    "\n",
    "::: callout-note\n",
    "Remember that continuing to develop a sound workflow for reproducible data analysis is important as you complete the lab and other assignments in this course.\n",
    "There will be periodic reminders in this assignment to remind you to **Run all, commit, and sync** your changes to GitHub.\n",
    "You should have at least 3 commits with meaningful commit messages by the end of the assignment.\n",
    ":::\n",
    "\n",
    "# Getting started\n",
    "\n",
    "All team members should clone the team GitHub repository for the lab.\n",
    "Then, one team member should edit the document Markdown cell by adding the team name to the `Team name` field and adding the names of the team members contributing to lab to the `Authors` field.\n",
    "Hopefully that's everyone, but if someone doesn't contribute during the lab session or throughout the week before the deadline, their name should not be added.\n",
    "If you have 4 members in your team, you can delete the line for the 5th team member.\n",
    "Then, this team member should render the document and commit and push the changes.\n",
    "All others should **not** touch the document at this stage.\n",
    "\n",
    "``` markdown\n",
    "# Lab 5 - Probability and Simpson’s Paradox\n",
    "### Team name\n",
    "### Authors: \n",
    "  - \"Team member 1\"\n",
    "  - \"Team member 2\"\n",
    "  - \"Team member 3\"\n",
    "  - \"Team member 4\"\n",
    "  - \"Team member 5\"\n",
    "### Date: ADD DATE HERE\n",
    "```\n"
   ]
  },
  {
   "cell_type": "markdown",
   "metadata": {},
   "source": [
    "# Questions\n",
    "\n",
    "::: callout-important\n",
    "Pick another member of the team write the answer to Part 1.\n",
    "All others should contribute to the discussion but only one person should type up the answer, render the document, commit, and push to GitHub.\n",
    "All others should **not** touch the document.\n",
    ":::\n"
   ]
  },
  {
   "cell_type": "markdown",
   "metadata": {},
   "source": [
    "## Part 1 - Probability and you\n",
    "\n",
    "### Question 1\n",
    "\n",
    "We use probabilities all the time when making decisions.\n",
    "*As a group*, provide *two* real world examples of when you've used probability to make decisions in your every day life.\n",
    "Think critically.\n",
    "Be creative."
   ]
  },
  {
   "cell_type": "markdown",
   "metadata": {},
   "source": [
    "::: callout-important\n",
    "After the team member working on Part 1 renders, commits, and pushes, another team member should pull their changes and render the document.\n",
    "Then, they should write the answer to Part 2.\n",
    "All others should contribute to the discussion but only one person should type up the answer, render the document, commit, and push to GitHub.\n",
    "All others should **not** touch the document.\n",
    ":::"
   ]
  },
  {
   "cell_type": "markdown",
   "metadata": {},
   "source": [
    "## Part 2 - Risk of coronary heart disease\n",
    "\n",
    "This data set is from an ongoing cardiovascular study on residents of the town of Framingham, Massachusetts.\n",
    "We want to examine the relationship between various health characteristics and the risk of having heart disease.\n",
    "\n",
    "### Question 2\n",
    "\n",
    "Load in the data set called `education-disease` and answer the following questions below."
   ]
  },
  {
   "cell_type": "markdown",
   "metadata": {},
   "source": [
    "### Question 3\n",
    "\n",
    "How many levels of education are there in these data?\n",
    "How many levels of disease are there?\n",
    "**Hint:** The `unique()` function might be helpful.\n"
   ]
  },
  {
   "cell_type": "markdown",
   "metadata": {},
   "source": [
    "### Question 4\n",
    "\n",
    "Convert the data to a two-way table where each cell is the number of people falling into each combination of Disease and Education.\n",
    "**Hint:** Use `groupby` and `pivot_table`.\n",
    "Your answer should be a 4x3 data frame with counts in each cell.\n"
   ]
  },
  {
   "cell_type": "code",
   "execution_count": 2,
   "metadata": {},
   "outputs": [],
   "source": [
    "# add code here."
   ]
  },
  {
   "cell_type": "markdown",
   "metadata": {},
   "source": [
    "Using the summary table you created above, answer the remaining questions.\n",
    "You do not have to use Python functions for your calculations, you can use Python as a calculator using the values from the summary table.\n",
    "Make sure to show your work, i.e., instead of reporting just the final answer, use Python to calculate that in a way we can see the counts you've used along the way.\n"
   ]
  },
  {
   "cell_type": "markdown",
   "metadata": {},
   "source": [
    "### Question 5\n",
    "\n",
    "What is the probability of a random individual having high school or GED education and not being high risk for cardiovascular disease?"
   ]
  },
  {
   "cell_type": "markdown",
   "metadata": {},
   "source": [
    "### Question 6\n",
    "\n",
    "What is the probability that a random individual who is already high risk for cardiovascular disease has a college education?"
   ]
  },
  {
   "cell_type": "markdown",
   "metadata": {},
   "source": [
    "::: callout-important\n",
    "After the team member working on Part 2 renders, commits, and pushes, another team member should pull their changes and render the document.\n",
    "Then, they should write the answer to Part 3.\n",
    "All others should contribute to the discussion but only one person should type up the answer, render the document, commit, and push to GitHub.\n",
    "All others should **not** touch the document.\n",
    ":::"
   ]
  },
  {
   "cell_type": "markdown",
   "metadata": {},
   "source": [
    "## Part 3 - Bike rentals\n",
    "\n",
    "Bike sharing systems are new generation of traditional bike rentals where whole process from membership, rental and return back has become automatic.\n",
    "You are tasked to investigate the relationship between the temperature outside and the number of bikes rented in the Washington DC area between the years 2011 and 2022.\n",
    "You will be investigating data for the months June, July, September, and November.\n",
    "\n",
    "Below is a list of variables and their definitions:\n",
    "\n",
    "| Variable  | Definition                                                                     |\n",
    "|------------------|------------------------------------------------------|\n",
    "| `season`  | Numerical representation of Spring (2), Summer (3), and Fall (4)               |\n",
    "| `year`    | Numerical representation of 2011 (0) or 2012 (1)                               |\n",
    "| `month`   | Month in which data were collected                                             |\n",
    "| `holiday` | Indicator variable for whether data were collected on a holiday (1) or not (0) |\n",
    "| `weekday` | Numerical representation of day of week                                        |\n",
    "| `temp`    | Temperature in Celsius                                                         |\n",
    "| `count`   | Number of bike rentals for that day                                            |"
   ]
  },
  {
   "cell_type": "markdown",
   "metadata": {},
   "source": [
    "### Question 7\n",
    "\n",
    "(a) Read in the `bike` data.\n",
    "    Then, create a scatter plot that investigates the relationship between the number of bikes rented and the temperature outside.\n",
    "    Include a straight line of best fit to help discuss the discovered relationship.\n",
    "    Summarize your findings in 2-3 sentences.\n",
    "\n",
    "(b) Another researcher suggests to look at the relationship between bikes rented and temperature by each of the four months of interest.\n",
    "    Recreate your plot in part a, and color the points by month.\n",
    "    Include a straight line for each of the four months to help discuss each month's relationship between bikes rented and temperature.\n",
    "    In 3-4 sentences, summarize your findings."
   ]
  },
  {
   "cell_type": "markdown",
   "metadata": {},
   "source": [
    "Please watch the following video on Simpson's Paradox [here](https://www.youtube.com/watch?v=ebEkn-BiW5k).\n",
    "After you do, please answer the following questions.\n",
    "\n",
    "### Question 8\n",
    "\n",
    "In your own words, summarize Simpson's Paradox in 2-3 sentences."
   ]
  },
  {
   "cell_type": "markdown",
   "metadata": {},
   "source": [
    "### Question 9\n",
    "\n",
    "Compare and contrast your findings from part (a) and part (b).\n",
    "What's different?"
   ]
  },
  {
   "cell_type": "markdown",
   "metadata": {},
   "source": [
    "### Question 10\n",
    "\n",
    "Think critically about your answer to part d.\n",
    "What other context from this study could be creating this paradox?\n",
    "That is, identify a potential confounding"
   ]
  },
  {
   "cell_type": "markdown",
   "metadata": {},
   "source": [
    "# Closing an issue with a commit\n",
    "\n",
    "Go to your GitHub repository, you will see an issue with the title \"Learn to close an issue with a commit\".\n",
    "\n",
    "Your goal is to close this issue with a commit to practice this workflow, which is the workflow you will use when you are addressing feedback on your projects.\n",
    "\n",
    "-   Go to the relevant section in your lab .ipynb file.\n",
    "-   Delete the sentence that says \"Delete me\".\n",
    "-   Render the document.\n",
    "-   Commit your changes from the git tab with the commit message *\"Delete sentence, closes #1.\"*\n",
    "-   Push your changes to your repo and observe that the issue is now closed and the commit associated with this move is linked from the issue.\n",
    "\n",
    "GitHub allows you to close an issue directly with commits if the commit uses one of the following keywords followed bu the issue number (which you can find next to the issue title): close, closes, closed, fix, fixes, fixed, resolve, resolves, and resolved.\n"
   ]
  },
  {
   "cell_type": "markdown",
   "metadata": {},
   "source": [
    "# Wrap-up\n",
    "\n",
    "## Submission\n",
    "\n",
    "::: callout-warning\n",
    "Before you wrap up the assignment, make sure all of your documents are updated on your GitHub repo.\n",
    "We will be checking these to make sure you have been practicing how to commit and push changes.\n",
    "\n",
    "You must turn in the .ipynb file by the submission deadline to be considered \"on time\".\n",
    ":::\n",
    "\n",
    "::: callout-important\n",
    "## Checklist\n",
    "\n",
    "Make sure you have:\n",
    "\n",
    "-   attempted all questions\n",
    "-   run all code in your Jupyter notebook\n",
    "-   committed and pushed everything to your GitHub repository such that the Git pane in VS Code is empty\n",
    ":::\n",
    "\n",
    "## Grading\n",
    "\n",
    "The lab is graded out of a total of 50 points.\n",
    "\n",
    "On Questions 1 through 10, you can earn up to 5 points on each question:\n",
    "\n",
    "-   5: Response shows excellent understanding and addresses all or almost all of the rubric items.\n",
    "\n",
    "-   4: Response shows good understanding and addresses most of the rubric items.\n",
    "\n",
    "-   3: Response shows understanding and addresses a majority of the rubric items.\n",
    "\n",
    "-   2: Response shows effort and misses many of the rubric items.\n",
    "\n",
    "-   1: Response does not show sufficient effort or understanding and/or is largely incomplete.\n",
    "\n",
    "-   0: No attempt.\n"
   ]
  }
 ],
 "metadata": {
  "kernelspec": {
   "display_name": "Python 3",
   "language": "python",
   "name": "python3"
  },
  "language_info": {
   "codemirror_mode": {
    "name": "ipython",
    "version": 3
   },
   "file_extension": ".py",
   "mimetype": "text/x-python",
   "name": "python",
   "nbconvert_exporter": "python",
   "pygments_lexer": "ipython3",
   "version": "3.11.6"
  }
 },
 "nbformat": 4,
 "nbformat_minor": 2
}
